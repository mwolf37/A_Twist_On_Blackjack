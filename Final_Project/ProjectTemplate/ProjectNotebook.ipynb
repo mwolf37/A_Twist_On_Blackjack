{
 "cells": [
  {
   "cell_type": "markdown",
   "metadata": {},
   "source": [
    "# Project Description"
   ]
  },
  {
   "cell_type": "markdown",
   "metadata": {},
   "source": [
    "Write a brief description of your project here. \n",
    "\n",
    "Note that projects should be self-sufficient, so make sure to provide enough information and context here for someone to understand what you are doing in your project, and why. "
   ]
  },
  {
   "cell_type": "markdown",
   "metadata": {},
   "source": [
    "## Project Code\n",
    "\n",
    "If it makes sense for your project, you can have code and outputs here in the notebook as well.\n",
    "I used an import from collections.\n",
    "from collection import Counter\n"
   ]
  },
  {
   "cell_type": "markdown",
   "metadata": {},
   "source": [
    "# A Twist on Blackjack"
   ]
  },
  {
   "cell_type": "markdown",
   "metadata": {
    "scrolled": true
   },
   "source": [
    "Hi this is a different version of blackjack. I like blackjack as a card game, so I wanted to do something similar to that. The premise of the game is the same as regular blackjack where the player gets handed 2 random cards and those 2 cards get added together. Normally there is both a dealer and player, but in my version there is only a player rather than deciding who wins based on eachother, the player wins if they're cards add up to be between 17 and 21. If they go over they bust, and if their total is under and they decide not to hit then they lose. Another thing that I added to the game is how many hits it took you to win. In this game, the more hits the better. Another part of the game is the probability part. If you have already hit and are still under 17, it will show you the probability of winning with the next card. Have fun!"
   ]
  },
  {
   "cell_type": "markdown",
   "metadata": {},
   "source": [
    "#### Extra Credit (*optional*)\n",
    "\n",
    "This is my first coding class as I have bever even done anything remotely close to coding. I am what som emight call computer illiterate, the most I do on a computer is write on google docs, check emails, and watch videos. It was interesting to see the makings behind those things though. I did have some help in making some of the functions. Something the I really had some trouble with was particularly the formatting of all the loops as well as the play_again function and how to better format that into it.  "
   ]
  }
 ],
 "metadata": {
  "kernelspec": {
   "display_name": "Python 3",
   "language": "python",
   "name": "python3"
  },
  "language_info": {
   "codemirror_mode": {
    "name": "ipython",
    "version": 3
   },
   "file_extension": ".py",
   "mimetype": "text/x-python",
   "name": "python",
   "nbconvert_exporter": "python",
   "pygments_lexer": "ipython3",
   "version": "3.7.6"
  }
 },
 "nbformat": 4,
 "nbformat_minor": 2
}
