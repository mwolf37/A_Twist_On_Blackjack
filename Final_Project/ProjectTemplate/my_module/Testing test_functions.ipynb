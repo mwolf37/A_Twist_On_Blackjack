{
 "cells": [
  {
   "cell_type": "code",
   "execution_count": 53,
   "metadata": {},
   "outputs": [],
   "source": [
    "\n",
    "from functions import *\n",
    "from classes import *\n",
    "##\n",
    "##\n",
    "#test the cards value is an integer ,test if ace can be used as a 1 \n",
    "def test_card_values():\n",
    "    assert isinstance(card_values(['7', '5']), int)\n",
    "    assert card_values(['3', '5', '5']) == 13\n",
    "    assert card_values(['Ace', '3', '4']) == 8\n",
    "    assert card_values(['Ace', 'Jack', '3']) == 14\n",
    "    \n",
    "#test Deck_Of_Cards and wheher it shows as a list, check to see if strings can be in it, checks the length of how many cards someone can get \n",
    "def test_DeckOfCards():\n",
    "    deck = DeckOfCards()\n",
    "    list1 =  ['Ace', 'King', 'Queen', 'Jack', '10', '9', '8',\n",
    "            '7', '6', '5', '4', '3', '2']\n",
    "    cards = deck.shuffle(2)\n",
    "    assert DeckOfCards, 52\n",
    "    assert isinstance(cards, list)\n",
    "    assert any(item in cards for item in list1)\n",
    "    assert len(cards) == 2\n",
    "    print(cards)\n",
    "#tests the player and making sure it is a string                       \n",
    "def test_players():\n",
    "    player = players('name')\n",
    "    assert isinstance(player.name,str)\n",
    "\n",
    "\n",
    "#test values_of_cards and whether the string matches with the value  \n",
    "def test_values_of_cards():\n",
    "    assert card_values(['Jack']) == 10\n",
    "    assert card_values(['King']) == 10\n",
    "    assert card_values(['7']) == 7\n",
    "    \n",
    "hand = ['King','2']\n",
    "total = 14\n",
    "    \n",
    "def test_probability(hand):\n",
    "    test_i = isinstance(probability(hand), int)\n",
    "    #test_i probability(total) == 36.734693877551024  \n",
    "\n",
    "def test_probability_facts(hand):\n",
    "    test = isinstance(probability_facts(hand), str)\n",
    "    assert probability_facts (['Ace']) != \"Your chances of gettting a value with 10 as your second card is 16/51\"\n"
   ]
  },
  {
   "cell_type": "code",
   "execution_count": 54,
   "metadata": {},
   "outputs": [
    {
     "name": "stdout",
     "output_type": "stream",
     "text": [
      "['King', 'King']\n"
     ]
    }
   ],
   "source": [
    "test_DeckOfCards()\n"
   ]
  },
  {
   "cell_type": "code",
   "execution_count": 55,
   "metadata": {},
   "outputs": [],
   "source": [
    "test_values_of_cards()"
   ]
  },
  {
   "cell_type": "code",
   "execution_count": 56,
   "metadata": {},
   "outputs": [],
   "source": [
    "test_players()"
   ]
  },
  {
   "cell_type": "code",
   "execution_count": 57,
   "metadata": {},
   "outputs": [],
   "source": [
    "test_card_values()"
   ]
  },
  {
   "cell_type": "code",
   "execution_count": 58,
   "metadata": {},
   "outputs": [
    {
     "name": "stdout",
     "output_type": "stream",
     "text": [
      "Your chances of gettting a value with 10 as your second card is 16/51\n",
      "Your chances of getting an Ace as your first card is 1/13\n"
     ]
    }
   ],
   "source": [
    "test_probabilty_facts(hand)"
   ]
  },
  {
   "cell_type": "code",
   "execution_count": 59,
   "metadata": {},
   "outputs": [],
   "source": [
    "test_probability(hand)"
   ]
  },
  {
   "cell_type": "code",
   "execution_count": null,
   "metadata": {},
   "outputs": [],
   "source": []
  },
  {
   "cell_type": "code",
   "execution_count": null,
   "metadata": {},
   "outputs": [],
   "source": []
  }
 ],
 "metadata": {
  "kernelspec": {
   "display_name": "Python 3",
   "language": "python",
   "name": "python3"
  },
  "language_info": {
   "codemirror_mode": {
    "name": "ipython",
    "version": 3
   },
   "file_extension": ".py",
   "mimetype": "text/x-python",
   "name": "python",
   "nbconvert_exporter": "python",
   "pygments_lexer": "ipython3",
   "version": "3.7.6"
  }
 },
 "nbformat": 4,
 "nbformat_minor": 4
}
